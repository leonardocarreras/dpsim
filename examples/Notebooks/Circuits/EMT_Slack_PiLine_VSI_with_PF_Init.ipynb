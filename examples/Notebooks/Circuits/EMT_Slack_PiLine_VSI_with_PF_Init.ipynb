{
 "cells": [
  {
   "cell_type": "markdown",
   "metadata": {},
   "source": [
    "# EMT Simulation of topology with slack, line and VSI"
   ]
  },
  {
   "cell_type": "code",
   "execution_count": null,
   "metadata": {},
   "outputs": [],
   "source": [
    "from villas.dataprocessing.readtools import *\n",
    "from villas.dataprocessing.timeseries import *\n",
    "import matplotlib.pyplot as plt\n",
    "import re\n",
    "import dpsimpy\n",
    "\n",
    "# %matplotlib widget"
   ]
  },
  {
   "cell_type": "markdown",
   "metadata": {},
   "source": [
    "## EMT Simulation"
   ]
  },
  {
   "cell_type": "markdown",
   "metadata": {},
   "source": [
    "### Parametrization"
   ]
  },
  {
   "cell_type": "code",
   "execution_count": null,
   "metadata": {},
   "outputs": [],
   "source": [
    "final_time = 1\n",
    "time_step = 0.1e-3\n",
    "sim_name = \"EMT_Slack_PiLine_VSI_with_PF_ControlOn\"\n",
    "pv_with_control = True\n",
    "cmd_scale_P = 1.0\n",
    "cmd_scale_I = 1.0\n",
    "V_nom = 20e3"
   ]
  },
  {
   "cell_type": "markdown",
   "metadata": {},
   "source": [
    "### Powerflow for Initialization"
   ]
  },
  {
   "cell_type": "code",
   "execution_count": null,
   "metadata": {},
   "outputs": [],
   "source": [
    "time_step_pf = final_time\n",
    "final_time_pf = final_time + time_step_pf\n",
    "sim_name_pf = sim_name + \"_PF\"\n",
    "dpsimpy.Logger.set_log_dir(\"logs/\" + sim_name_pf)\n",
    "\n",
    "# Components\n",
    "n1_pf = dpsimpy.sp.SimNode(\"n1\", dpsimpy.PhaseType.Single)\n",
    "n2_pf = dpsimpy.sp.SimNode(\"n2\", dpsimpy.PhaseType.Single)\n",
    "\n",
    "extnet_pf = dpsimpy.sp.ph1.NetworkInjection(\"Slack\", dpsimpy.LogLevel.debug)\n",
    "extnet_pf.set_parameters(voltage_set_point=V_nom)\n",
    "extnet_pf.set_base_voltage(V_nom)\n",
    "extnet_pf.modify_power_flow_bus_type(dpsimpy.PowerflowBusType.VD)\n",
    "\n",
    "line_pf = dpsimpy.sp.ph1.PiLine(\"PiLine\", dpsimpy.LogLevel.debug)\n",
    "line_pf.set_parameters(R=0.5 * 5, L=0.5 / 314 * 5, C=50e-6 / 314 * 5)\n",
    "line_pf.set_base_voltage(V_nom)\n",
    "\n",
    "load_pf = dpsimpy.sp.ph1.Load(\"Load\", dpsimpy.LogLevel.debug)\n",
    "load_pf.set_parameters(active_power=-100e3, reactive_power=-50e3, nominal_voltage=20e3)\n",
    "load_pf.modify_power_flow_bus_type(dpsimpy.PowerflowBusType.PQ)\n",
    "\n",
    "# Topology\n",
    "extnet_pf.connect([n1_pf])\n",
    "line_pf.connect([n1_pf, n2_pf])\n",
    "load_pf.connect([n2_pf])\n",
    "system_pf = dpsimpy.SystemTopology(50, [n1_pf, n2_pf], [extnet_pf, line_pf, load_pf])\n",
    "\n",
    "# Logging\n",
    "logger_pf = dpsimpy.Logger(sim_name_pf)\n",
    "logger_pf.log_attribute(\"v1\", \"v\", n1_pf)\n",
    "logger_pf.log_attribute(\"v2\", \"v\", n2_pf)\n",
    "\n",
    "# Simulation\n",
    "sim_pf = dpsimpy.Simulation(sim_name_pf, dpsimpy.LogLevel.debug)\n",
    "sim_pf.set_system(system_pf)\n",
    "sim_pf.set_time_step(time_step_pf)\n",
    "sim_pf.set_final_time(final_time_pf)\n",
    "sim_pf.set_domain(dpsimpy.Domain.SP)\n",
    "sim_pf.set_solver(dpsimpy.Solver.NRP)\n",
    "sim_pf.do_init_from_nodes_and_terminals(False)\n",
    "sim_pf.add_logger(logger_pf)\n",
    "sim_pf.run()"
   ]
  },
  {
   "cell_type": "markdown",
   "metadata": {},
   "source": [
    "### Dynamic Simulation"
   ]
  },
  {
   "cell_type": "code",
   "execution_count": null,
   "metadata": {},
   "outputs": [],
   "source": [
    "time_step_emt = time_step\n",
    "final_time_emt = final_time + time_step_emt\n",
    "sim_name_emt = sim_name + \"_EMT\"\n",
    "dpsimpy.Logger.set_log_dir(\"logs/\" + sim_name_emt)\n",
    "\n",
    "# Components\n",
    "gnd = dpsimpy.emt.SimNode.gnd\n",
    "n1_emt = dpsimpy.emt.SimNode(\"n1\", dpsimpy.PhaseType.ABC)\n",
    "n2_emt = dpsimpy.emt.SimNode(\"n2\", dpsimpy.PhaseType.ABC)\n",
    "\n",
    "extnet_emt = dpsimpy.emt.ph3.NetworkInjection(\"Slack\", dpsimpy.LogLevel.debug)\n",
    "\n",
    "line_emt = dpsimpy.emt.ph3.PiLine(\"PiLine\", dpsimpy.LogLevel.debug)\n",
    "line_emt.set_parameters(\n",
    "    series_resistance=dpsimpy.Math.single_phase_parameter_to_three_phase(0.5 * 5),\n",
    "    series_inductance=dpsimpy.Math.single_phase_parameter_to_three_phase(\n",
    "        (0.5 / 314) * 5\n",
    "    ),\n",
    "    parallel_capacitance=dpsimpy.Math.single_phase_parameter_to_three_phase(\n",
    "        (50e-6 / 314) * 5\n",
    "    ),\n",
    ")\n",
    "\n",
    "pv = dpsimpy.emt.ph3.AvVoltageSourceInverterDQ(\n",
    "    \"pv\", \"pv\", dpsimpy.LogLevel.debug, with_trafo=True\n",
    ")\n",
    "pv.set_parameters(sys_omega=2 * np.pi * 50, sys_volt_nom=V_nom, p_ref=100e3, q_ref=50e3)\n",
    "pv.set_controller_parameters(\n",
    "    Kp_pll=cmd_scale_P * 0.25,\n",
    "    Ki_pll=cmd_scale_I * 0.2,\n",
    "    Kp_power_ctrl=cmd_scale_P * 0.001,\n",
    "    Ki_power_ctrl=cmd_scale_I * 0.008,\n",
    "    Kp_curr_ctrl=cmd_scale_P * 0.3,\n",
    "    Ki_curr_ctrl=cmd_scale_I * 1,\n",
    "    omega_cutoff=2 * np.pi * 50,\n",
    ")\n",
    "pv.set_filter_parameters(Lf=0.002, Cf=789.3e-6, Rf=0.1, Rc=0.1)\n",
    "pv.set_transformer_parameters(\n",
    "    nom_voltage_end_1=V_nom,\n",
    "    nom_voltage_end_2=1500,\n",
    "    rated_power=5e6,\n",
    "    ratio_abs=V_nom / 1500,\n",
    "    ratio_phase=0,\n",
    "    resistance=0,\n",
    "    inductance=0.928e-3,\n",
    "    omega=2 * np.pi * 50,\n",
    ")\n",
    "pv.set_initial_state_values(\n",
    "    p_init=100e3,\n",
    "    q_init=50e3,\n",
    "    phi_d_init=0,\n",
    "    phi_q_init=0,\n",
    "    gamma_d_init=0,\n",
    "    gamma_q_init=0,\n",
    ")\n",
    "pv.with_control(pv_with_control)\n",
    "\n",
    "# Topology\n",
    "extnet_emt.connect([n1_emt])\n",
    "line_emt.connect([n1_emt, n2_emt])\n",
    "pv.connect([n2_emt])\n",
    "system_emt = dpsimpy.SystemTopology(50, [n1_emt, n2_emt], [extnet_emt, line_emt, pv])\n",
    "\n",
    "# Initialization of dynamic topology\n",
    "system_emt.init_with_powerflow(system_pf, dpsimpy.Domain.EMT)\n",
    "\n",
    "# Logging\n",
    "logger_emt = dpsimpy.Logger(sim_name_emt)\n",
    "logger_emt.log_attribute(\"v1\", \"v\", n1_emt)\n",
    "logger_emt.log_attribute(\"v2\", \"v\", n2_emt)\n",
    "logger_emt.log_attribute(\"i12\", \"i_intf\", line_emt)\n",
    "\n",
    "\n",
    "input_names = [\n",
    "    \"pv_powerctrl_input_pref\",\n",
    "    \"pv_powerctrl_input_qref\",\n",
    "    \"pv_powerctrl_input_vcd\",\n",
    "    \"pv_powerctrl_input_vcq\",\n",
    "    \"pv_powerctrl_input_ircd\",\n",
    "    \"pv_powerctrl_input_ircq\",\n",
    "]\n",
    "logger_emt.log_attribute(input_names, \"powerctrl_inputs\", pv)\n",
    "\n",
    "state_names = [\n",
    "    \"pv_powerctrl_state_p\",\n",
    "    \"pv_powerctrl_state_q\",\n",
    "    \"pv_powerctrl_state_phid\",\n",
    "    \"pv_powerctrl_state_phiq\",\n",
    "    \"pv_powerctrl_state_gammad\",\n",
    "    \"pv_powerctrl_state_gammaq\",\n",
    "]\n",
    "logger_emt.log_attribute(state_names, \"powerctrl_states\", pv)\n",
    "\n",
    "output_names = [\"pv_powerctrl_output_vsd\", \"pv_powerctrl_output_vsq\"]\n",
    "\n",
    "logger_emt.log_attribute(output_names, \"powerctrl_outputs\", pv)\n",
    "\n",
    "logger_emt.log_attribute(\"pv_v_intf\", \"v_intf\", pv)\n",
    "logger_emt.log_attribute(\"pv_i_intf\", \"i_intf\", pv)\n",
    "logger_emt.log_attribute(\"pv_pll_output\", \"pll_output\", pv)\n",
    "logger_emt.log_attribute(\"pv_vsref\", \"Vsref\", pv)\n",
    "logger_emt.log_attribute(\"pv_vs\", \"Vs\", pv)\n",
    "\n",
    "# load step sized in absolute terms\n",
    "load_switch = dpsimpy.emt.ph3.Switch(\"Load_Add_Switch_n2\", dpsimpy.LogLevel.debug)\n",
    "connection_node = system_emt.node(\"n2\")\n",
    "resistance = np.abs(connection_node.initial_single_voltage()) ** 2 / 10e6\n",
    "load_switch.set_parameters(np.identity(3) * 1e9, np.identity(3) * resistance)\n",
    "load_switch.open()\n",
    "system_emt.add(load_switch)\n",
    "system_emt.connect_component(load_switch, [gnd, system_emt.node(\"n2\")])\n",
    "logger_emt.log_attribute(\"switchedload_i\", \"i_intf\", load_switch)\n",
    "load_step_event = dpsimpy.event.SwitchEvent3Ph(\n",
    "    np.round(5.0 / time_step) * time_step, load_switch, True\n",
    ")\n",
    "\n",
    "# Simulation\n",
    "sim_emt = dpsimpy.Simulation(sim_name_emt, dpsimpy.LogLevel.debug)\n",
    "sim_emt.set_system(system_emt)\n",
    "sim_emt.set_time_step(time_step_emt)\n",
    "sim_emt.set_final_time(final_time_emt)\n",
    "sim_emt.set_domain(dpsimpy.Domain.EMT)\n",
    "sim_emt.add_event(load_step_event)\n",
    "sim_emt.add_logger(logger_emt)\n",
    "sim_emt.run()"
   ]
  },
  {
   "cell_type": "markdown",
   "metadata": {},
   "source": [
    "## PF results"
   ]
  },
  {
   "cell_type": "code",
   "execution_count": null,
   "metadata": {},
   "outputs": [],
   "source": [
    "modelName = sim_name_pf\n",
    "path = \"logs/\" + modelName + \"/\"\n",
    "dpsim_result_file = path + modelName + \".csv\"\n",
    "\n",
    "ts_dpsim_pf = read_timeseries_csv(dpsim_result_file)"
   ]
  },
  {
   "cell_type": "markdown",
   "metadata": {},
   "source": [
    "## EMT results"
   ]
  },
  {
   "cell_type": "code",
   "execution_count": null,
   "metadata": {},
   "outputs": [],
   "source": [
    "modelName = sim_name_emt\n",
    "path = \"logs/\" + modelName + \"/\"\n",
    "dpsim_result_file = path + modelName + \".csv\"\n",
    "PEAK1PH_TO_RMS3PH = np.sqrt(3.0 / 2.0)\n",
    "ts_dpsim = read_timeseries_csv(dpsim_result_file)"
   ]
  },
  {
   "cell_type": "code",
   "execution_count": null,
   "metadata": {},
   "outputs": [],
   "source": [
    "plt.figure(figsize=(12, 6))\n",
    "for ts_name, ts_obj in ts_dpsim.items():\n",
    "    if ts_name in [\"v1_0\", \"v1_1\", \"v1_2\", \"v2_0\", \"v2_1\", \"v2_2\"]:\n",
    "        plt.plot(ts_obj.time, PEAK1PH_TO_RMS3PH * ts_obj.values, label=ts_name)\n",
    "for ts_name, ts_obj in ts_dpsim_pf.items():\n",
    "    plt.plot(ts_obj.time, ts_obj.abs().values, label=ts_name + \"_pf\", linestyle=\":\")\n",
    "plt.legend()\n",
    "plt.show()"
   ]
  },
  {
   "cell_type": "code",
   "execution_count": null,
   "metadata": {},
   "outputs": [],
   "source": [
    "plt.figure(figsize=(12, 6))\n",
    "for ts_name, ts_obj in ts_dpsim.items():\n",
    "    if ts_name in [\"i12_0\", \"i12_1\", \"i12_2\"]:\n",
    "        plt.plot(ts_obj.time, PEAK1PH_TO_RMS3PH * ts_obj.values, label=ts_name)\n",
    "\n",
    "plt.legend()\n",
    "plt.show()"
   ]
  },
  {
   "cell_type": "code",
   "execution_count": null,
   "metadata": {},
   "outputs": [],
   "source": [
    "plt.figure(figsize=(12, 6))\n",
    "for ts_name, ts_obj in ts_dpsim.items():\n",
    "    if ts_name in [\"pv_v_intf_0\"]:\n",
    "        plt.plot(ts_obj.time, PEAK1PH_TO_RMS3PH * ts_obj.values, label=ts_name)\n",
    "\n",
    "plt.legend()\n",
    "plt.show()"
   ]
  },
  {
   "cell_type": "code",
   "execution_count": null,
   "metadata": {},
   "outputs": [],
   "source": [
    "plt.figure(figsize=(12, 6))\n",
    "for ts_name, ts_obj in ts_dpsim.items():\n",
    "    if ts_name in [\"pv_i_intf_0\"]:\n",
    "        plt.plot(ts_obj.time, PEAK1PH_TO_RMS3PH * ts_obj.values, label=ts_name)\n",
    "\n",
    "plt.legend()\n",
    "plt.show()"
   ]
  },
  {
   "cell_type": "code",
   "execution_count": null,
   "metadata": {},
   "outputs": [],
   "source": []
  }
 ],
 "metadata": {
  "kernelspec": {
   "display_name": "Python 3 (ipykernel)",
   "language": "python",
   "name": "python3"
  },
  "language_info": {
   "codemirror_mode": {
    "name": "ipython",
    "version": 3
   },
   "file_extension": ".py",
   "mimetype": "text/x-python",
   "name": "python",
   "nbconvert_exporter": "python",
   "pygments_lexer": "ipython3",
   "version": "3.9.7"
  }
 },
 "nbformat": 4,
 "nbformat_minor": 4
}
