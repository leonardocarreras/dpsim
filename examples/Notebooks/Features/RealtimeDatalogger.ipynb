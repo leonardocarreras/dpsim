{
 "cells": [
  {
   "cell_type": "markdown",
   "metadata": {},
   "source": [
    "# In-memory logging for realtime applications"
   ]
  },
  {
   "cell_type": "markdown",
   "metadata": {},
   "source": [
    " DPsim integrates a datalogger for realtime applications. It pre-allocates memory to run without writing to a file until the simulation is finished.\n",
    "\n",
    " For normal simulations it also increases the speed of the execution."
   ]
  },
  {
   "cell_type": "markdown",
   "metadata": {},
   "source": [
    "## Example 1"
   ]
  },
  {
   "cell_type": "markdown",
   "metadata": {},
   "source": [
    "We start by defining a very simple simulation:"
   ]
  },
  {
   "cell_type": "code",
   "execution_count": null,
   "metadata": {},
   "outputs": [],
   "source": [
    "import dpsimpy\n",
    "\n",
    "# Parameters\n",
    "duration = 1\n",
    "timestep = 0.001\n",
    "name = \"ExampleDatalogger1\"\n",
    "log_path = \"./logs/\" + name + \".csv\"\n",
    "attributes = 4  # real and imaginary for a voltage and a currrent\n",
    "\n",
    "# Nodes\n",
    "gnd = dpsimpy.dp.SimNode.gnd\n",
    "n1 = dpsimpy.dp.SimNode(\"n1\")\n",
    "\n",
    "# Components\n",
    "v1 = dpsimpy.dp.ph1.VoltageSource(\"v_1\")\n",
    "v1.set_parameters(V_ref=complex(345, 0), f_src=50)\n",
    "v1.connect([gnd, n1])\n",
    "r1 = dpsimpy.dp.ph1.Resistor(\"r1\")\n",
    "r1.connect([gnd, n1])\n",
    "\n",
    "sys = dpsimpy.SystemTopology(50, [gnd, n1], [v1, r1])"
   ]
  },
  {
   "cell_type": "markdown",
   "metadata": {},
   "source": [
    "We setup now a Realtime Datalogger"
   ]
  },
  {
   "cell_type": "code",
   "execution_count": null,
   "metadata": {},
   "outputs": [],
   "source": [
    "logger = dpsimpy.RealTimeDataLogger(log_path, duration, timestep)\n",
    "logger.log_attribute(\"n1.v\", \"v\", n1)\n",
    "logger.log_attribute(\"r1.i\", \"i_intf\", r1)"
   ]
  },
  {
   "cell_type": "markdown",
   "metadata": {},
   "source": [
    "Now we setup a simple simulation"
   ]
  },
  {
   "cell_type": "code",
   "execution_count": null,
   "metadata": {},
   "outputs": [],
   "source": [
    "sim = dpsimpy.RealTimeSimulation(name, dpsimpy.LogLevel.debug)\n",
    "sim.set_system(sys)\n",
    "sim.set_domain(dpsimpy.Domain.DP)\n",
    "sim.set_time_step(timestep)\n",
    "sim.set_final_time(duration)\n",
    "sim.add_logger(logger)\n",
    "sim.run(5)"
   ]
  },
  {
   "cell_type": "markdown",
   "metadata": {},
   "source": [
    "Check that all went good"
   ]
  },
  {
   "cell_type": "code",
   "execution_count": null,
   "metadata": {},
   "outputs": [],
   "source": [
    "import pandas as pd\n",
    "\n",
    "# Read the CSV\n",
    "df = pd.read_csv(log_path)\n",
    "\n",
    "# Expected dimensions\n",
    "expected_rows = int(duration / timestep + 0.5)  # timesteps + 1\n",
    "expected_cols = 1 + attributes  # time + attributes\n",
    "\n",
    "# Assertions\n",
    "assert df.shape[0] == expected_rows, f\"Expected {expected_rows} rows, got {df.shape[0]}\"\n",
    "assert (\n",
    "    df.shape[1] == expected_cols\n",
    "), f\"Expected {expected_cols} columns, got {df.shape[1]}\"\n",
    "\n",
    "print(\"OK:\", df.shape)"
   ]
  }
 ],
 "metadata": {
  "kernelspec": {
   "display_name": "Python 3 (ipykernel)",
   "language": "python",
   "name": "python3"
  },
  "language_info": {
   "codemirror_mode": {
    "name": "ipython",
    "version": 3
   },
   "file_extension": ".py",
   "mimetype": "text/x-python",
   "name": "python",
   "nbconvert_exporter": "python",
   "pygments_lexer": "ipython3",
   "version": "3.12.3"
  },
  "tests": {
   "skip": true
  }
 },
 "nbformat": 4,
 "nbformat_minor": 4
}
